{
 "cells": [
  {
   "cell_type": "code",
   "execution_count": 1,
   "metadata": {
    "collapsed": false
   },
   "outputs": [
    {
     "name": "stderr",
     "output_type": "stream",
     "text": [
      "/Users/michellechen/anaconda2/lib/python2.7/site-packages/h5py/__init__.py:34: FutureWarning: Conversion of the second argument of issubdtype from `float` to `np.floating` is deprecated. In future, it will be treated as `np.float64 == np.dtype(float).type`.\n",
      "  from ._conv import register_converters as _register_converters\n"
     ]
    }
   ],
   "source": [
    "%matplotlib inline\n",
    "import os\n",
    "import cv2\n",
    "import csv\n",
    "import glob\n",
    "import time\n",
    "import math\n",
    "import random\n",
    "import numpy as np\n",
    "from numpy import array\n",
    "import matplotlib\n",
    "import matplotlib.pyplot as plt\n",
    "from PIL import Image\n",
    "from pylab import *\n",
    "import tensorflow as tf\n",
    "from sklearn.utils import shuffle\n",
    "from sklearn.metrics import confusion_matrix\n",
    "from datetime import timedelta"
   ]
  },
  {
   "cell_type": "markdown",
   "metadata": {},
   "source": [
    "# Configuration and Hyperparameters"
   ]
  },
  {
   "cell_type": "code",
   "execution_count": 2,
   "metadata": {
    "collapsed": true
   },
   "outputs": [],
   "source": [
    "# Convolutional Layer 1.\n",
    "filter_size1 = 3 \n",
    "num_filters1 = 32\n",
    "\n",
    "# Convolutional Layer 2.\n",
    "filter_size2 = 3\n",
    "num_filters2 = 32\n",
    "\n",
    "# Convolutional Layer 3.\n",
    "filter_size3 = 3\n",
    "num_filters3 = 64\n",
    "\n",
    "# Fully-connected layer.\n",
    "fc_size = 128             # Number of neurons in fully-connected layer.\n",
    "\n",
    "# Number of color channels for the images: 1 channel for gray-scale.\n",
    "num_channels = 3\n",
    "\n",
    "# image dimensions (only squares for now)\n",
    "img_size = 128\n",
    "\n",
    "# Size of image when flattened to a single dimension\n",
    "img_size_flat = img_size * img_size * num_channels\n",
    "\n",
    "# Tuple with height and width of images used to reshape arrays.\n",
    "img_shape = (img_size, img_size)\n",
    "\n",
    "# class info\n",
    "classes = ['Top', 'Bottom', 'Shoes', 'Bag', 'Jewelry']\n",
    "num_classes = len(classes)\n",
    "\n",
    "# batch size\n",
    "batch_size = 30\n",
    "\n",
    "# validation split\n",
    "validation_size = .2\n",
    "\n",
    "# how long to wait after validation loss stops improving before terminating training\n",
    "early_stopping = None  # use None if you don't want to implement early stoping\n",
    "\n",
    "# train_path = 'data/Items/Train/'\n",
    "# test_path = 'data/Items/Test/'"
   ]
  },
  {
   "cell_type": "markdown",
   "metadata": {},
   "source": [
    "# Creating new variables"
   ]
  },
  {
   "cell_type": "code",
   "execution_count": 3,
   "metadata": {
    "collapsed": true
   },
   "outputs": [],
   "source": [
    "def new_weights(shape):\n",
    "    return tf.Variable(tf.truncated_normal(shape, stddev=0.05))"
   ]
  },
  {
   "cell_type": "code",
   "execution_count": 4,
   "metadata": {
    "collapsed": true
   },
   "outputs": [],
   "source": [
    "def new_biases(length):\n",
    "    return tf.Variable(tf.constant(0.05, shape=[length]))"
   ]
  },
  {
   "cell_type": "markdown",
   "metadata": {},
   "source": [
    "# Creating a new Convolutional Layer"
   ]
  },
  {
   "cell_type": "code",
   "execution_count": 5,
   "metadata": {
    "collapsed": true
   },
   "outputs": [],
   "source": [
    "def new_conv_layer(input,              # The previous layer.\n",
    "                   num_input_channels, # Num. channels in prev. layer.\n",
    "                   filter_size,        # Width and height of each filter.\n",
    "                   num_filters,        # Number of filters.\n",
    "                   use_pooling=True):  # Use 2x2 max-pooling.\n",
    "\n",
    "    # Shape of the filter-weights for the convolution.\n",
    "    # This format is determined by the TensorFlow API.\n",
    "    shape = [filter_size, filter_size, num_input_channels, num_filters]\n",
    "\n",
    "    # Create new weights aka. filters with the given shape.\n",
    "    weights = new_weights(shape=shape)\n",
    "\n",
    "    # Create new biases, one for each filter.\n",
    "    biases = new_biases(length=num_filters)\n",
    "\n",
    "    # Create the TensorFlow operation for convolution.\n",
    "    # Note the strides are set to 1 in all dimensions.\n",
    "    # The first and last stride must always be 1,\n",
    "    # because the first is for the image-number and\n",
    "    # the last is for the input-channel.\n",
    "    # But e.g. strides=[1, 2, 2, 1] would mean that the filter\n",
    "    # is moved 2 pixels across the x- and y-axis of the image.\n",
    "    # The padding is set to 'SAME' which means the input image\n",
    "    # is padded with zeroes so the size of the output is the same.\n",
    "    layer = tf.nn.conv2d(input=input,\n",
    "                         filter=weights,\n",
    "                         strides=[1, 1, 1, 1],\n",
    "                         padding='SAME')\n",
    "\n",
    "    # Add the biases to the results of the convolution.\n",
    "    # A bias-value is added to each filter-channel.\n",
    "    layer += biases\n",
    "\n",
    "    # Use pooling to down-sample the image resolution?\n",
    "    if use_pooling:\n",
    "        # This is 2x2 max-pooling, which means that we\n",
    "        # consider 2x2 windows and select the largest value\n",
    "        # in each window. Then we move 2 pixels to the next window.\n",
    "        layer = tf.nn.max_pool(value=layer,\n",
    "                               ksize=[1, 2, 2, 1],\n",
    "                               strides=[1, 2, 2, 1],\n",
    "                               padding='SAME')\n",
    "\n",
    "    # Rectified Linear Unit (ReLU).\n",
    "    # It calculates max(x, 0) for each input pixel x.\n",
    "    # This adds some non-linearity to the formula and allows us\n",
    "    # to learn more complicated functions.\n",
    "    layer = tf.nn.relu(layer)\n",
    "\n",
    "    # Note that ReLU is normally executed before the pooling,\n",
    "    # but since relu(max_pool(x)) == max_pool(relu(x)) we can\n",
    "    # save 75% of the relu-operations by max-pooling first.\n",
    "\n",
    "    # We return both the resulting layer and the filter-weights\n",
    "    # because we will plot the weights later.\n",
    "    return layer, weights"
   ]
  },
  {
   "cell_type": "markdown",
   "metadata": {
    "collapsed": true
   },
   "source": [
    "# Flattening a layer"
   ]
  },
  {
   "cell_type": "code",
   "execution_count": 6,
   "metadata": {
    "collapsed": true
   },
   "outputs": [],
   "source": [
    "def flatten_layer(layer):\n",
    "    # Get the shape of the input layer.\n",
    "    layer_shape = layer.get_shape()\n",
    "\n",
    "    # The shape of the input layer is assumed to be:\n",
    "    # layer_shape == [num_images, img_height, img_width, num_channels]\n",
    "\n",
    "    # The number of features is: img_height * img_width * num_channels\n",
    "    # We can use a function from TensorFlow to calculate this.\n",
    "    num_features = layer_shape[1:4].num_elements()\n",
    "    \n",
    "    # Reshape the layer to [num_images, num_features].\n",
    "    # Note that we just set the size of the second dimension\n",
    "    # to num_features and the size of the first dimension to -1\n",
    "    # which means the size in that dimension is calculated\n",
    "    # so the total size of the tensor is unchanged from the reshaping.\n",
    "    layer_flat = tf.reshape(layer, [-1, num_features])\n",
    "\n",
    "    # The shape of the flattened layer is now:\n",
    "    # [num_images, img_height * img_width * num_channels]\n",
    "\n",
    "    # Return both the flattened layer and the number of features.\n",
    "    return layer_flat, num_features"
   ]
  },
  {
   "cell_type": "markdown",
   "metadata": {
    "collapsed": true
   },
   "source": [
    "# Creating a new Fully-Connected Layer"
   ]
  },
  {
   "cell_type": "code",
   "execution_count": 7,
   "metadata": {
    "collapsed": true
   },
   "outputs": [],
   "source": [
    "def new_fc_layer(input,          # The previous layer.\n",
    "                 num_inputs,     # Num. inputs from prev. layer.\n",
    "                 num_outputs,    # Num. outputs.\n",
    "                 use_relu=True): # Use Rectified Linear Unit (ReLU)?\n",
    "\n",
    "    # Create new weights and biases.\n",
    "    weights = new_weights(shape=[num_inputs, num_outputs])\n",
    "    biases = new_biases(length=num_outputs)\n",
    "\n",
    "    # Calculate the layer as the matrix multiplication of\n",
    "    # the input and weights, and then add the bias-values.\n",
    "    layer = tf.matmul(input, weights) + biases\n",
    "\n",
    "    # Use ReLU?\n",
    "    if use_relu:\n",
    "        layer = tf.nn.relu(layer)\n",
    "\n",
    "    return layer"
   ]
  },
  {
   "cell_type": "markdown",
   "metadata": {},
   "source": [
    "# Placeholder variables"
   ]
  },
  {
   "cell_type": "code",
   "execution_count": 8,
   "metadata": {
    "collapsed": true
   },
   "outputs": [],
   "source": [
    "x = tf.placeholder(tf.float32, shape=[None, img_size_flat], name='x')"
   ]
  },
  {
   "cell_type": "code",
   "execution_count": 9,
   "metadata": {
    "collapsed": true
   },
   "outputs": [],
   "source": [
    "x_image = tf.reshape(x, [-1, img_size, img_size, num_channels])"
   ]
  },
  {
   "cell_type": "code",
   "execution_count": 10,
   "metadata": {
    "collapsed": true
   },
   "outputs": [],
   "source": [
    "y_true = tf.placeholder(tf.float32, shape=[None, num_classes], name='y_true')"
   ]
  },
  {
   "cell_type": "code",
   "execution_count": 11,
   "metadata": {
    "collapsed": false
   },
   "outputs": [
    {
     "name": "stdout",
     "output_type": "stream",
     "text": [
      "WARNING:tensorflow:From <ipython-input-11-4674210f2acc>:1: calling argmax (from tensorflow.python.ops.math_ops) with dimension is deprecated and will be removed in a future version.\n",
      "Instructions for updating:\n",
      "Use the `axis` argument instead\n"
     ]
    }
   ],
   "source": [
    "y_true_cls = tf.argmax(y_true, dimension=1)"
   ]
  },
  {
   "cell_type": "markdown",
   "metadata": {},
   "source": [
    "# Convolutional Layer 1, 2, 3"
   ]
  },
  {
   "cell_type": "code",
   "execution_count": 12,
   "metadata": {
    "collapsed": true
   },
   "outputs": [],
   "source": [
    "layer_conv1, weights_conv1 = \\\n",
    "    new_conv_layer(input=x_image,\n",
    "                   num_input_channels=num_channels,\n",
    "                   filter_size=filter_size1,\n",
    "                   num_filters=num_filters1,\n",
    "                   use_pooling=True)"
   ]
  },
  {
   "cell_type": "code",
   "execution_count": 13,
   "metadata": {
    "collapsed": false
   },
   "outputs": [
    {
     "data": {
      "text/plain": [
       "<tf.Tensor 'Relu:0' shape=(?, 64, 64, 32) dtype=float32>"
      ]
     },
     "execution_count": 13,
     "metadata": {},
     "output_type": "execute_result"
    }
   ],
   "source": [
    "layer_conv1"
   ]
  },
  {
   "cell_type": "code",
   "execution_count": 14,
   "metadata": {
    "collapsed": true
   },
   "outputs": [],
   "source": [
    "layer_conv2, weights_conv2 = \\\n",
    "    new_conv_layer(input=layer_conv1,\n",
    "                   num_input_channels=num_filters1,\n",
    "                   filter_size=filter_size2,\n",
    "                   num_filters=num_filters2,\n",
    "                   use_pooling=True)"
   ]
  },
  {
   "cell_type": "code",
   "execution_count": 15,
   "metadata": {
    "collapsed": false
   },
   "outputs": [
    {
     "data": {
      "text/plain": [
       "<tf.Tensor 'Relu_1:0' shape=(?, 32, 32, 32) dtype=float32>"
      ]
     },
     "execution_count": 15,
     "metadata": {},
     "output_type": "execute_result"
    }
   ],
   "source": [
    "layer_conv2"
   ]
  },
  {
   "cell_type": "code",
   "execution_count": 16,
   "metadata": {
    "collapsed": true
   },
   "outputs": [],
   "source": [
    "layer_conv3, weights_conv3 = \\\n",
    "    new_conv_layer(input=layer_conv2,\n",
    "                   num_input_channels=num_filters2,\n",
    "                   filter_size=filter_size3,\n",
    "                   num_filters=num_filters3,\n",
    "                   use_pooling=True)"
   ]
  },
  {
   "cell_type": "code",
   "execution_count": 17,
   "metadata": {
    "collapsed": false
   },
   "outputs": [
    {
     "data": {
      "text/plain": [
       "<tf.Tensor 'Relu_2:0' shape=(?, 16, 16, 64) dtype=float32>"
      ]
     },
     "execution_count": 17,
     "metadata": {},
     "output_type": "execute_result"
    }
   ],
   "source": [
    "layer_conv3"
   ]
  },
  {
   "cell_type": "markdown",
   "metadata": {},
   "source": [
    "# Flatten Layer"
   ]
  },
  {
   "cell_type": "code",
   "execution_count": 18,
   "metadata": {
    "collapsed": true
   },
   "outputs": [],
   "source": [
    "layer_flat, num_features = flatten_layer(layer_conv3)"
   ]
  },
  {
   "cell_type": "code",
   "execution_count": 19,
   "metadata": {
    "collapsed": false
   },
   "outputs": [
    {
     "data": {
      "text/plain": [
       "<tf.Tensor 'Reshape_1:0' shape=(?, 16384) dtype=float32>"
      ]
     },
     "execution_count": 19,
     "metadata": {},
     "output_type": "execute_result"
    }
   ],
   "source": [
    "layer_flat"
   ]
  },
  {
   "cell_type": "code",
   "execution_count": 20,
   "metadata": {
    "collapsed": false
   },
   "outputs": [
    {
     "data": {
      "text/plain": [
       "16384"
      ]
     },
     "execution_count": 20,
     "metadata": {},
     "output_type": "execute_result"
    }
   ],
   "source": [
    "num_features"
   ]
  },
  {
   "cell_type": "markdown",
   "metadata": {},
   "source": [
    "# Fully-Connected Layer 1, 2"
   ]
  },
  {
   "cell_type": "code",
   "execution_count": 21,
   "metadata": {
    "collapsed": true
   },
   "outputs": [],
   "source": [
    "layer_fc1 = new_fc_layer(input=layer_flat,\n",
    "                         num_inputs=num_features,\n",
    "                         num_outputs=fc_size,\n",
    "                         use_relu=True)"
   ]
  },
  {
   "cell_type": "code",
   "execution_count": 22,
   "metadata": {
    "collapsed": false
   },
   "outputs": [
    {
     "data": {
      "text/plain": [
       "<tf.Tensor 'Relu_3:0' shape=(?, 128) dtype=float32>"
      ]
     },
     "execution_count": 22,
     "metadata": {},
     "output_type": "execute_result"
    }
   ],
   "source": [
    "layer_fc1"
   ]
  },
  {
   "cell_type": "code",
   "execution_count": 23,
   "metadata": {
    "collapsed": true
   },
   "outputs": [],
   "source": [
    "layer_fc2 = new_fc_layer(input=layer_fc1,\n",
    "                         num_inputs=fc_size,\n",
    "                         num_outputs=num_classes,\n",
    "                         use_relu=False)"
   ]
  },
  {
   "cell_type": "code",
   "execution_count": 24,
   "metadata": {
    "collapsed": false
   },
   "outputs": [
    {
     "data": {
      "text/plain": [
       "<tf.Tensor 'add_4:0' shape=(?, 5) dtype=float32>"
      ]
     },
     "execution_count": 24,
     "metadata": {},
     "output_type": "execute_result"
    }
   ],
   "source": [
    "layer_fc2"
   ]
  },
  {
   "cell_type": "markdown",
   "metadata": {},
   "source": [
    "# Predicted Class"
   ]
  },
  {
   "cell_type": "code",
   "execution_count": 25,
   "metadata": {
    "collapsed": true
   },
   "outputs": [],
   "source": [
    "y_pred = tf.nn.softmax(layer_fc2)"
   ]
  },
  {
   "cell_type": "code",
   "execution_count": 26,
   "metadata": {
    "collapsed": false
   },
   "outputs": [],
   "source": [
    "y_pred_cls = tf.argmax(y_pred, dimension=1)"
   ]
  },
  {
   "cell_type": "markdown",
   "metadata": {},
   "source": [
    "# Cost-function to be optimized"
   ]
  },
  {
   "cell_type": "code",
   "execution_count": 27,
   "metadata": {
    "collapsed": true
   },
   "outputs": [],
   "source": [
    "cross_entropy = tf.nn.softmax_cross_entropy_with_logits(logits=layer_fc2,\n",
    "                                                        labels=y_true)"
   ]
  },
  {
   "cell_type": "code",
   "execution_count": 28,
   "metadata": {
    "collapsed": true
   },
   "outputs": [],
   "source": [
    "cost = tf.reduce_mean(cross_entropy)"
   ]
  },
  {
   "cell_type": "code",
   "execution_count": 29,
   "metadata": {
    "collapsed": true
   },
   "outputs": [],
   "source": [
    "optimizer = tf.train.AdamOptimizer(learning_rate=1e-4).minimize(cost)"
   ]
  },
  {
   "cell_type": "markdown",
   "metadata": {},
   "source": [
    "# Performance Measures"
   ]
  },
  {
   "cell_type": "code",
   "execution_count": 30,
   "metadata": {
    "collapsed": true
   },
   "outputs": [],
   "source": [
    "correct_prediction = tf.equal(y_pred_cls, y_true_cls)"
   ]
  },
  {
   "cell_type": "code",
   "execution_count": 31,
   "metadata": {
    "collapsed": true
   },
   "outputs": [],
   "source": [
    "accuracy = tf.reduce_mean(tf.cast(correct_prediction, tf.float32))"
   ]
  },
  {
   "cell_type": "markdown",
   "metadata": {},
   "source": [
    "# TensorFlow Run"
   ]
  },
  {
   "cell_type": "code",
   "execution_count": 32,
   "metadata": {
    "collapsed": false
   },
   "outputs": [
    {
     "name": "stdout",
     "output_type": "stream",
     "text": [
      "WARNING:tensorflow:From /Users/michellechen/anaconda2/lib/python2.7/site-packages/tensorflow/python/util/tf_should_use.py:107: initialize_all_variables (from tensorflow.python.ops.variables) is deprecated and will be removed after 2017-03-02.\n",
      "Instructions for updating:\n",
      "Use `tf.global_variables_initializer` instead.\n"
     ]
    }
   ],
   "source": [
    "# Create TensorFlow session\n",
    "session = tf.Session()\n",
    "\n",
    "# Initialize variables\n",
    "session.run(tf.initialize_all_variables())\n",
    "\n",
    "# Create saver to save and restore a trained model\n",
    "saver = tf.train.Saver()"
   ]
  },
  {
   "cell_type": "markdown",
   "metadata": {},
   "source": [
    "# Plot example errors"
   ]
  },
  {
   "cell_type": "code",
   "execution_count": 33,
   "metadata": {
    "collapsed": true
   },
   "outputs": [],
   "source": [
    "def plot_example_errors(cls_pred, correct):\n",
    "    # cls_pred is an array of the predicted class-number for\n",
    "    # all images in the test-set.\n",
    "\n",
    "    # correct is a boolean array whether the predicted class\n",
    "    # is equal to the true class for each image in the test-set.\n",
    "\n",
    "    # Negate the boolean array.\n",
    "    incorrect = (correct == False)\n",
    "    \n",
    "    # Get the images from the test-set that have been\n",
    "    # incorrectly classified.\n",
    "    images = data.valid.images[incorrect]\n",
    "    \n",
    "    # Get the predicted classes for those images.\n",
    "    cls_pred = cls_pred[incorrect]\n",
    "\n",
    "    # Get the true classes for those images.\n",
    "    cls_true = data.valid.cls[incorrect]\n",
    "    \n",
    "    # Plot the first 9 images.\n",
    "    plot_images(images=images[0:9],\n",
    "                cls_true=cls_true[0:9],\n",
    "                cls_pred=cls_pred[0:9])"
   ]
  },
  {
   "cell_type": "markdown",
   "metadata": {},
   "source": [
    "# Plot confusion matrix"
   ]
  },
  {
   "cell_type": "code",
   "execution_count": 34,
   "metadata": {
    "collapsed": true
   },
   "outputs": [],
   "source": [
    "def plot_confusion_matrix(cls_pred):\n",
    "    # cls_pred is an array of the predicted class-number for\n",
    "    # all images in the test-set.\n",
    "\n",
    "    # Get the true classifications for the test-set.\n",
    "    cls_true = data.valid.cls\n",
    "    \n",
    "    # Get the confusion matrix using sklearn.\n",
    "    cm = confusion_matrix(y_true=cls_true,\n",
    "                          y_pred=cls_pred)\n",
    "\n",
    "    # Print the confusion matrix as text.\n",
    "    print(cm)\n",
    "\n",
    "    # Plot the confusion matrix as an image.\n",
    "    plt.matshow(cm)\n",
    "\n",
    "    # Make various adjustments to the plot.\n",
    "    plt.colorbar()\n",
    "    tick_marks = np.arange(num_classes)\n",
    "    plt.xticks(tick_marks, range(num_classes))\n",
    "    plt.yticks(tick_marks, range(num_classes))\n",
    "    plt.xlabel('Predicted')\n",
    "    plt.ylabel('True')\n",
    "\n",
    "    # Ensure the plot is shown correctly with multiple plots\n",
    "    # in a single Notebook cell.\n",
    "    plt.show()"
   ]
  },
  {
   "cell_type": "markdown",
   "metadata": {},
   "source": [
    "# Showing the performance"
   ]
  },
  {
   "cell_type": "code",
   "execution_count": 35,
   "metadata": {
    "collapsed": true
   },
   "outputs": [],
   "source": [
    "def print_validation_accuracy(show_example_errors=False, show_confusion_matrix=False):\n",
    "\n",
    "    # Number of images in the test-set.\n",
    "    num_test = len(data.valid.images)\n",
    "\n",
    "    # Allocate an array for the predicted classes which\n",
    "    # will be calculated in batches and filled into this array.\n",
    "    cls_pred = np.zeros(shape=num_test, dtype=np.int)\n",
    "\n",
    "    # Now calculate the predicted classes for the batches.\n",
    "    # We will just iterate through all the batches.\n",
    "    # There might be a more clever and Pythonic way of doing this.\n",
    "\n",
    "    # The starting index for the next batch is denoted i.\n",
    "    i = 0\n",
    "\n",
    "    while i < num_test:\n",
    "        # The ending index for the next batch is denoted j.\n",
    "        j = min(i + batch_size, num_test)\n",
    "\n",
    "        # Get the images from the test-set between index i and j.\n",
    "        images = data.valid.images[i:j, :].reshape(batch_size, img_size_flat)\n",
    "    \n",
    "        # Get the associated labels.\n",
    "        labels = data.valid.labels[i:j, :]\n",
    "\n",
    "        # Create a feed-dict with these images and labels.\n",
    "        feed_dict = {x: images,\n",
    "                     y_true: labels}\n",
    "\n",
    "        # Calculate the predicted class using TensorFlow.\n",
    "        cls_pred[i:j] = session.run(y_pred_cls, feed_dict=feed_dict)\n",
    "\n",
    "        # Set the start-index for the next batch to the\n",
    "        # end-index of the current batch.\n",
    "        i = j\n",
    "\n",
    "    cls_true = np.array(data.valid.cls)\n",
    "    cls_pred = np.array([classes[n] for n in cls_pred]) \n",
    "\n",
    "    # Create a boolean array whether each image is correctly classified.\n",
    "    correct = (cls_true == cls_pred)\n",
    "\n",
    "    # Calculate the number of correctly classified images.\n",
    "    # When summing a boolean array, False means 0 and True means 1.\n",
    "    correct_sum = correct.sum()\n",
    "\n",
    "    # Classification accuracy is the number of correctly classified\n",
    "    # images divided by the total number of images in the test-set.\n",
    "    acc = float(correct_sum) / num_test\n",
    "\n",
    "    # Print the accuracy.\n",
    "    msg = \"Accuracy on Test-Set: {0:.1%} ({1} / {2})\"\n",
    "    print(msg.format(acc, correct_sum, num_test))\n",
    "\n",
    "    # Plot some examples of mis-classifications, if desired.\n",
    "    if show_example_errors:\n",
    "        print(\"Example errors:\")\n",
    "        plot_example_errors(cls_pred=cls_pred, correct=correct)\n",
    "\n",
    "    # Plot the confusion matrix, if desired.\n",
    "    if show_confusion_matrix:\n",
    "        print(\"Confusion Matrix:\")\n",
    "        plot_confusion_matrix(cls_pred=cls_pred)"
   ]
  },
  {
   "cell_type": "markdown",
   "metadata": {},
   "source": [
    "# Test on Sample Image"
   ]
  },
  {
   "cell_type": "code",
   "execution_count": 36,
   "metadata": {
    "collapsed": false
   },
   "outputs": [
    {
     "name": "stdout",
     "output_type": "stream",
     "text": [
      "INFO:tensorflow:Restoring parameters from data/item_category_classifier.ckpt\n"
     ]
    }
   ],
   "source": [
    "# Restore the trained model\n",
    "saver.restore(session, \"data/item_category_classifier.ckpt\")"
   ]
  },
  {
   "cell_type": "code",
   "execution_count": 53,
   "metadata": {
    "collapsed": false
   },
   "outputs": [
    {
     "data": {
      "text/plain": [
       "<matplotlib.image.AxesImage at 0x11d7d2f50>"
      ]
     },
     "execution_count": 53,
     "metadata": {},
     "output_type": "execute_result"
    },
    {
     "data": {
      "image/png": "[encoded data removed]",
      "text/plain": [
       "<matplotlib.figure.Figure at 0x11d6869d0>"
      ]
     },
     "metadata": {},
     "output_type": "display_data"
    }
   ],
   "source": [
    "plt.axis('off')\n",
    "\n",
    "test_cat = cv2.imread('data/Top.jpg')\n",
    "test_cat = cv2.resize(test_cat, (img_size, img_size))\n",
    "plt.imshow(test_cat.reshape(img_size, img_size, num_channels))"
   ]
  },
  {
   "cell_type": "code",
   "execution_count": 38,
   "metadata": {
    "collapsed": false
   },
   "outputs": [
    {
     "data": {
      "text/plain": [
       "<matplotlib.image.AxesImage at 0x118b873d0>"
      ]
     },
     "execution_count": 38,
     "metadata": {},
     "output_type": "execute_result"
    },
    {
     "data": {
      "image/png": "[encoded data removed]",
      "text/plain": [
       "<matplotlib.figure.Figure at 0x11b474b90>"
      ]
     },
     "metadata": {},
     "output_type": "display_data"
    }
   ],
   "source": [
    "plt.axis('off')\n",
    "\n",
    "test_dog = cv2.imread('data/Bag.jpg')\n",
    "test_dog = cv2.resize(test_dog, (img_size, img_size))\n",
    "plt.imshow(test_dog.reshape(img_size, img_size, num_channels))"
   ]
  },
  {
   "cell_type": "code",
   "execution_count": 39,
   "metadata": {
    "collapsed": false
   },
   "outputs": [
    {
     "name": "stdout",
     "output_type": "stream",
     "text": [
      "Predicted class for test_cat: ('Top', 0)\n",
      "Predicted class for test_dog: ('Bag', 3)\n"
     ]
    }
   ],
   "source": [
    "def sample_prediction(test_im):\n",
    "    \n",
    "    feed_dict_test = {\n",
    "        x: test_im.reshape(1, img_size_flat),\n",
    "        y_true: np.array([[0, 1, 2, 3, 4]]) \n",
    "    }\n",
    "\n",
    "    test_pred = session.run(y_pred_cls, feed_dict=feed_dict_test)\n",
    "    probabilities = test_pred[0]\n",
    "#     result = probabilities.eval(feed_dict=feed_dict_test, session=session)\n",
    "    \n",
    "    return classes[test_pred[0]], probabilities\n",
    "\n",
    "print(\"Predicted class for test_cat: {}\".format(sample_prediction(test_cat)))\n",
    "print(\"Predicted class for test_dog: {}\".format(sample_prediction(test_dog)))"
   ]
  },
  {
   "cell_type": "code",
   "execution_count": 46,
   "metadata": {
    "collapsed": false
   },
   "outputs": [
    {
     "data": {
      "text/plain": [
       "'data/Bag.jpg'"
      ]
     },
     "execution_count": 46,
     "metadata": {},
     "output_type": "execute_result"
    }
   ],
   "source": [
    "glob.glob('data/*')[0]"
   ]
  },
  {
   "cell_type": "code",
   "execution_count": 6,
   "metadata": {
    "collapsed": false,
    "scrolled": true
   },
   "outputs": [
    {
     "data": {
      "text/plain": [
       "[(0,\n",
       "  u'0.016*\"dolc\" + 0.015*\"gabbana\" + 0.012*\"christma\" + 0.011*\"oscar\" + 0.010*\"gown\" + 0.010*\"renta\" + 0.009*\"sequin\" + 0.008*\"giusepp\" + 0.008*\"zanotti\" + 0.006*\"parti\"'),\n",
       " (1,\n",
       "  u'0.047*\"lauren\" + 0.035*\"spade\" + 0.034*\"ralph\" + 0.029*\"kate\" + 0.022*\"karl\" + 0.020*\"vinc\" + 0.020*\"lagerfeld\" + 0.016*\"camuto\" + 0.016*\"mankind\" + 0.015*\"rocha\"'),\n",
       " (2,\n",
       "  u'0.036*\"michael\" + 0.022*\"kor\" + 0.009*\"simpson\" + 0.008*\"jessica\" + 0.007*\"widest\" + 0.007*\"deliveri\" + 0.006*\"skool\" + 0.006*\"pirat\" + 0.006*\"disney\" + 0.006*\"locket\"'),\n",
       " (3,\n",
       "  u'0.076*\"watch\" + 0.020*\"stainless\" + 0.019*\"steel\" + 0.018*\"tori\" + 0.017*\"dial\" + 0.017*\"burch\" + 0.015*\"resist\" + 0.013*\"water\" + 0.013*\"quartz\" + 0.009*\"movement\"'),\n",
       " (4,\n",
       "  u'0.023*\"blade\" + 0.016*\"iro\" + 0.014*\"loafer\" + 0.013*\"casadei\" + 0.011*\"bliss\" + 0.011*\"vian\" + 0.011*\"cluse\" + 0.010*\"mischief\" + 0.009*\"folli\" + 0.009*\"dakota\"'),\n",
       " (5,\n",
       "  u'0.019*\"chanel\" + 0.009*\"david\" + 0.008*\"yurman\" + 0.007*\"quilt\" + 0.006*\"aso\" + 0.006*\"stuart\" + 0.005*\"weitzman\" + 0.005*\"boy\" + 0.005*\"preciou\" + 0.005*\"mara\"'),\n",
       " (6,\n",
       "  u'0.016*\"beani\" + 0.012*\"iphon\" + 0.010*\"pom\" + 0.009*\"van\" + 0.008*\"macbook\" + 0.008*\"balenciaga\" + 0.007*\"backpack\" + 0.007*\"tech\" + 0.007*\"vetement\" + 0.006*\"clau\"'),\n",
       " (7,\n",
       "  u'0.019*\"engag\" + 0.017*\"marc\" + 0.014*\"wed\" + 0.014*\"jacob\" + 0.013*\"eli\" + 0.013*\"saab\" + 0.011*\"versac\" + 0.009*\"carat\" + 0.009*\"rubi\" + 0.009*\"sterl\"'),\n",
       " (8,\n",
       "  u'0.055*\"sweatshirt\" + 0.044*\"hoodi\" + 0.026*\"backpack\" + 0.023*\"bra\" + 0.015*\"pullov\" + 0.015*\"nike\" + 0.012*\"adida\" + 0.012*\"hood\" + 0.009*\"sport\" + 0.009*\"headphon\"'),\n",
       " (9,\n",
       "  u'0.029*\"ted\" + 0.022*\"alexandr\" + 0.022*\"baker\" + 0.016*\"grip\" + 0.014*\"phone\" + 0.013*\"birman\" + 0.013*\"valli\" + 0.012*\"tech\" + 0.011*\"selman\" + 0.010*\"frye\"'),\n",
       " (10,\n",
       "  u'0.033*\"shein\" + 0.027*\"sheinsid\" + 0.020*\"sam\" + 0.017*\"site\" + 0.017*\"edelman\" + 0.013*\"bikini\" + 0.011*\"men\" + 0.010*\"plain\" + 0.008*\"fring\" + 0.008*\"ruffl\"'),\n",
       " (11,\n",
       "  u'0.028*\"steve\" + 0.028*\"madden\" + 0.020*\"headband\" + 0.014*\"choker\" + 0.014*\"hair\" + 0.012*\"charlott\" + 0.012*\"russ\" + 0.008*\"snow\" + 0.008*\"jeffrey\" + 0.006*\"prom\"'),\n",
       " (12,\n",
       "  u'0.009*\"scarv\" + 0.007*\"plaid\" + 0.007*\"backpack\" + 0.006*\"cardigan\" + 0.006*\"fur\" + 0.005*\"scarf\" + 0.005*\"turtleneck\" + 0.004*\"cashmer\" + 0.004*\"gucci\" + 0.004*\"topshop\"'),\n",
       " (13,\n",
       "  u'0.049*\"effi\" + 0.042*\"rosefield\" + 0.038*\"hilfig\" + 0.037*\"tommi\" + 0.025*\"calvin\" + 0.024*\"klein\" + 0.016*\"comm\" + 0.016*\"daniel\" + 0.015*\"wellington\" + 0.015*\"de\"'),\n",
       " (14,\n",
       "  u'0.010*\"gamiss\" + 0.009*\"roland\" + 0.008*\"mouret\" + 0.007*\"pom\" + 0.007*\"ugg\" + 0.007*\"san\" + 0.006*\"beani\" + 0.006*\"souci\" + 0.006*\"salvator\" + 0.006*\"fur\"'),\n",
       " (15,\n",
       "  u'0.023*\"resolut\" + 0.019*\"von\" + 0.018*\"kendra\" + 0.018*\"scott\" + 0.018*\"dian\" + 0.017*\"furstenberg\" + 0.014*\"cartier\" + 0.012*\"helmut\" + 0.012*\"mugler\" + 0.011*\"lang\"'),\n",
       " (16,\n",
       "  u'0.070*\"wholesal\" + 0.052*\"cheap\" + 0.045*\"glove\" + 0.032*\"also\" + 0.029*\"onlin\" + 0.014*\"sock\" + 0.012*\"quay\" + 0.012*\"sweatpant\" + 0.011*\"tight\" + 0.010*\"lantern\"'),\n",
       " (17,\n",
       "  u'0.040*\"jimmi\" + 0.039*\"choo\" + 0.017*\"singh\" + 0.017*\"amrita\" + 0.016*\"marmont\" + 0.015*\"caval\" + 0.015*\"roberto\" + 0.013*\"christma\" + 0.012*\"petar\" + 0.012*\"petrov\"'),\n",
       " (18,\n",
       "  u'0.075*\"saint\" + 0.074*\"laurent\" + 0.035*\"yve\" + 0.019*\"cheapest\" + 0.019*\"monogram\" + 0.014*\"balenciaga\" + 0.014*\"categori\" + 0.012*\"rolex\" + 0.010*\"resolut\" + 0.007*\"bvlgari\"'),\n",
       " (19,\n",
       "  u'0.044*\"puma\" + 0.031*\"convers\" + 0.023*\"creeper\" + 0.021*\"fenti\" + 0.021*\"judith\" + 0.020*\"leiber\" + 0.014*\"rihanna\" + 0.013*\"pajama\" + 0.012*\"chuck\" + 0.012*\"star\"'),\n",
       " (20,\n",
       "  u'0.050*\"minkoff\" + 0.049*\"rebecca\" + 0.016*\"carolina\" + 0.015*\"gedeb\" + 0.014*\"anya\" + 0.012*\"sandro\" + 0.012*\"hindmarch\" + 0.012*\"carvela\" + 0.010*\"exil\" + 0.009*\"lariat\"'),\n",
       " (21,\n",
       "  u'0.082*\"gamiss\" + 0.045*\"jumpsuit\" + 0.029*\"romper\" + 0.013*\"demeulemeest\" + 0.011*\"crosbi\" + 0.011*\"comey\" + 0.010*\"rachel\" + 0.009*\"flounci\" + 0.009*\"rhineston\" + 0.009*\"hasp\"'),\n",
       " (22,\n",
       "  u'0.076*\"vuitton\" + 0.076*\"loui\" + 0.062*\"tom\" + 0.055*\"ford\" + 0.025*\"beat\" + 0.024*\"vauthier\" + 0.022*\"dre\" + 0.020*\"misbhv\" + 0.019*\"fifth\" + 0.019*\"sak\"'),\n",
       " (23,\n",
       "  u'0.011*\"gucci\" + 0.007*\"miu\" + 0.006*\"prada\" + 0.005*\"christian\" + 0.005*\"louboutin\" + 0.005*\"alexand\" + 0.004*\"chanel\" + 0.004*\"fur\" + 0.004*\"marni\" + 0.004*\"balmain\"'),\n",
       " (24,\n",
       "  u'0.020*\"gal\" + 0.019*\"marco\" + 0.019*\"philipp\" + 0.017*\"vincenzo\" + 0.016*\"plein\" + 0.016*\"mcm\" + 0.015*\"portabl\" + 0.014*\"boss\" + 0.014*\"emilio\" + 0.013*\"hugo\"')]"
      ]
     },
     "execution_count": 6,
     "metadata": {},
     "output_type": "execute_result"
    }
   ],
   "source": [
    "# Load outfit clustering LDA model\n",
    "lda = gensim.models.LdaModel.load('data/lda_25topics_100iterations.model')\n",
    "\n",
    "lda.print_topics(25)"
   ]
  },
  {
   "cell_type": "code",
   "execution_count": null,
   "metadata": {
    "collapsed": true
   },
   "outputs": [],
   "source": []
  },
  {
   "cell_type": "code",
   "execution_count": null,
   "metadata": {
    "collapsed": true
   },
   "outputs": [],
   "source": [
    "# Generate pairs of candidate items in selected style"
   ]
  },
  {
   "cell_type": "code",
   "execution_count": null,
   "metadata": {
    "collapsed": true
   },
   "outputs": [],
   "source": []
  },
  {
   "cell_type": "code",
   "execution_count": 3,
   "metadata": {
    "collapsed": false,
    "scrolled": true
   },
   "outputs": [
    {
     "name": "stdout",
     "output_type": "stream",
     "text": [
      "Style 11\n",
      "4859\n",
      "\n",
      "\n",
      "Style 12\n",
      "45683\n",
      "\n",
      "\n",
      "Style 13\n",
      "93\n",
      "\n",
      "\n",
      "Style 14\n",
      "13064\n",
      "\n",
      "\n",
      "Style 15\n",
      "682\n",
      "\n",
      "\n",
      "Style 16\n",
      "559\n",
      "\n",
      "\n",
      "Style 17\n",
      "374\n",
      "\n",
      "\n",
      "Style 18\n",
      "1333\n",
      "\n",
      "\n",
      "Style 19\n",
      "1168\n",
      "\n",
      "\n",
      "Style 20\n",
      "57\n",
      "\n",
      "\n",
      "Style 21\n",
      "1393\n",
      "\n",
      "\n",
      "Style 22\n",
      "89\n",
      "\n",
      "\n"
     ]
    }
   ],
   "source": [
    "from shutil import copyfile\n",
    "\n",
    "i = 11\n",
    "while i <= 22:\n",
    "    \n",
    "    print \"Style \" + str(i)\n",
    "    \n",
    "    image_path = []\n",
    "\n",
    "    # Read file by line, and store into a list\n",
    "    with open(\"style/style\" + str(i) + \"_images.txt\") as f:\n",
    "        image_path = f.readlines()\n",
    "\n",
    "    # Remove whitespace characters like \\n at the end of each line\n",
    "    image_path = [x.strip() for x in image_path]\n",
    "    \n",
    "    print len(image_path)\n",
    "    \n",
    "    for j in xrange(len(image_path)):\n",
    "        \n",
    "        # Copy item image files to style images\n",
    "        copyfile(image_path[j], \"style/style\" + str(i) + \"_images/\" + image_path[j].split(\"-\")[-1])\n",
    "    \n",
    "    print \"\\n\"\n",
    "    \n",
    "    i = i + 1"
   ]
  },
  {
   "cell_type": "code",
   "execution_count": null,
   "metadata": {
    "collapsed": true
   },
   "outputs": [],
   "source": []
  }
 ],
 "metadata": {
  "kernelspec": {
   "display_name": "Python 2",
   "language": "python",
   "name": "python2"
  },
  "language_info": {
   "codemirror_mode": {
    "name": "ipython",
    "version": 2
   },
   "file_extension": ".py",
   "mimetype": "text/x-python",
   "name": "python",
   "nbconvert_exporter": "python",
   "pygments_lexer": "ipython2",
   "version": "2.7.14"
  }
 },
 "nbformat": 4,
 "nbformat_minor": 0
}
