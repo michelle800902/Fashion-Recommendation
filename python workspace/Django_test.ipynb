{
 "cells": [
  {
   "cell_type": "code",
   "execution_count": 1,
   "metadata": {
    "collapsed": false
   },
   "outputs": [
    {
     "name": "stdout",
     "output_type": "stream",
     "text": [
      "(1, 8, 8, 'final', 0)\n"
     ]
    }
   ],
   "source": [
    "import django\n",
    "print django.VERSION"
   ]
  },
  {
   "cell_type": "code",
   "execution_count": 2,
   "metadata": {
    "collapsed": true
   },
   "outputs": [],
   "source": [
    "class dev_server(object):\n",
    "    def __init__(self):\n",
    "        self.server = 'no_server'\n",
    "    def start(self):\n",
    "        '''\n",
    "        starts the server\n",
    "        '''\n",
    "        import subprocess\n",
    "        self.server = subprocess.Popen([\"python\", \"manage.py\", \"runserver\"])\n",
    "        print \"Im running!\"\n",
    "    def end(self):\n",
    "        '''\n",
    "        ends the sever\n",
    "        '''\n",
    "        if self.server == 'no_server':\n",
    "            print \"there is no sever!\"\n",
    "        else:\n",
    "            self.server.terminate()\n",
    "            print \"I've Stopped.\""
   ]
  },
  {
   "cell_type": "code",
   "execution_count": 3,
   "metadata": {
    "collapsed": true
   },
   "outputs": [],
   "source": [
    "dev_server = dev_server() # instantiate our object"
   ]
  },
  {
   "cell_type": "code",
   "execution_count": 4,
   "metadata": {
    "collapsed": false
   },
   "outputs": [
    {
     "name": "stdout",
     "output_type": "stream",
     "text": [
      "Im running!\n"
     ]
    }
   ],
   "source": [
    "dev_server.start()"
   ]
  },
  {
   "cell_type": "code",
   "execution_count": null,
   "metadata": {
    "collapsed": true
   },
   "outputs": [],
   "source": []
  },
  {
   "cell_type": "code",
   "execution_count": null,
   "metadata": {
    "collapsed": true
   },
   "outputs": [],
   "source": []
  },
  {
   "cell_type": "code",
   "execution_count": null,
   "metadata": {
    "collapsed": true
   },
   "outputs": [],
   "source": []
  }
 ],
 "metadata": {
  "kernelspec": {
   "display_name": "Python 2",
   "language": "python",
   "name": "python2"
  },
  "language_info": {
   "codemirror_mode": {
    "name": "ipython",
    "version": 2
   },
   "file_extension": ".py",
   "mimetype": "text/x-python",
   "name": "python",
   "nbconvert_exporter": "python",
   "pygments_lexer": "ipython2",
   "version": "2.7.11"
  }
 },
 "nbformat": 4,
 "nbformat_minor": 0
}
